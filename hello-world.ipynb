{
  "nbformat": 4,
  "nbformat_minor": 0,
  "metadata": {
    "anaconda-cloud": {},
    "kernelspec": {
      "name": "python3",
      "display_name": "Python 3"
    },
    "colab": {
      "name": "hello-world.ipynb",
      "provenance": [],
      "include_colab_link": true
    }
  },
  "cells": [
    {
      "cell_type": "markdown",
      "metadata": {
        "id": "view-in-github",
        "colab_type": "text"
      },
      "source": [
        "<a href=\"https://colab.research.google.com/github/AliAkbarBadri/learn-complex-network/blob/master/hello-world.ipynb\" target=\"_parent\"><img src=\"https://colab.research.google.com/assets/colab-badge.svg\" alt=\"Open In Colab\"/></a>"
      ]
    },
    {
      "cell_type": "markdown",
      "metadata": {
        "id": "v7_lPXdEbcXu",
        "colab_type": "text"
      },
      "source": [
        "# Setup"
      ]
    },
    {
      "cell_type": "code",
      "metadata": {
        "id": "cR_At72PagJa",
        "colab_type": "code",
        "colab": {}
      },
      "source": [
        "# ! pip install -q networkx\n",
        "# ! pip install -q python-louvain"
      ],
      "execution_count": null,
      "outputs": []
    },
    {
      "cell_type": "code",
      "metadata": {
        "id": "37CbeUe0aagV",
        "colab_type": "code",
        "colab": {}
      },
      "source": [
        "import networkx as nx"
      ],
      "execution_count": 37,
      "outputs": []
    },
    {
      "cell_type": "markdown",
      "metadata": {
        "id": "rooazhtIXY37",
        "colab_type": "text"
      },
      "source": [
        "# undirected graph"
      ]
    },
    {
      "cell_type": "code",
      "metadata": {
        "id": "SKb5uG62aZQA",
        "colab_type": "code",
        "colab": {}
      },
      "source": [
        "G = nx.Graph()\n",
        "G.add_edge('C','E', relation ='friend')\n",
        "G.add_edge('C','F', relation ='family')"
      ],
      "execution_count": null,
      "outputs": []
    },
    {
      "cell_type": "code",
      "metadata": {
        "id": "GChK78lAaAKO",
        "colab_type": "code",
        "colab": {
          "base_uri": "https://localhost:8080/",
          "height": 34
        },
        "outputId": "6ce85b2a-3a97-4859-d4b6-9e4ff3f97643"
      },
      "source": [
        "G.edges()"
      ],
      "execution_count": null,
      "outputs": [
        {
          "output_type": "execute_result",
          "data": {
            "text/plain": [
              "EdgeView([('C', 'E'), ('C', 'F')])"
            ]
          },
          "metadata": {
            "tags": []
          },
          "execution_count": 21
        }
      ]
    },
    {
      "cell_type": "markdown",
      "metadata": {
        "id": "FJ94UlB7YqV7",
        "colab_type": "text"
      },
      "source": [
        "# weighted graph"
      ]
    },
    {
      "cell_type": "code",
      "metadata": {
        "id": "4J0CbMXsYrvU",
        "colab_type": "code",
        "colab": {}
      },
      "source": [
        "G.add_edge('A','B', weight=6)"
      ],
      "execution_count": null,
      "outputs": []
    },
    {
      "cell_type": "markdown",
      "metadata": {
        "id": "rNpLvbAEYhCs",
        "colab_type": "text"
      },
      "source": [
        "# signed graph"
      ]
    },
    {
      "cell_type": "code",
      "metadata": {
        "id": "j_wS4S0SYkbQ",
        "colab_type": "code",
        "colab": {}
      },
      "source": [
        "G.add_edge('B','C', sign ='+')\n",
        "G.add_edge('C','D', sign ='-')"
      ],
      "execution_count": null,
      "outputs": []
    },
    {
      "cell_type": "markdown",
      "metadata": {
        "id": "keh-t6LVXdkd",
        "colab_type": "text"
      },
      "source": [
        "# directed graph"
      ]
    },
    {
      "cell_type": "code",
      "metadata": {
        "id": "dF1Zy9Sb4eEb",
        "colab_type": "code",
        "colab": {}
      },
      "source": [
        "G = nx.Graph()\n",
        "G.add_edge('A','B')\n",
        "G.add_edge('B','A')"
      ],
      "execution_count": null,
      "outputs": []
    },
    {
      "cell_type": "markdown",
      "metadata": {
        "id": "hgOQQVfaYQjM",
        "colab_type": "text"
      },
      "source": [
        "# multi graph"
      ]
    },
    {
      "cell_type": "code",
      "metadata": {
        "id": "YivngmErYQsU",
        "colab_type": "code",
        "colab": {}
      },
      "source": [
        "G = nx.MultiGraph()\n",
        "G.add_edge('A','B', weight=16, relation ='friend')\n",
        "G.add_edge('A','D', weight=16, relation ='neighbour')\n",
        "G.add_edge('B','C', weight=5, relation ='family')\n",
        "G.add_edge('C','A', weight=5, relation ='friend')\n",
        "G.add_node('A', role='trader')\n",
        "G.add_node('B', role='trader')\n",
        "G.add_node('C', role='manager')"
      ],
      "execution_count": 11,
      "outputs": []
    },
    {
      "cell_type": "code",
      "metadata": {
        "id": "HFMHJVH3bntW",
        "colab_type": "code",
        "colab": {
          "base_uri": "https://localhost:8080/",
          "height": 34
        },
        "outputId": "69ef5d3b-ccf3-4bc3-8005-eca76765dd38"
      },
      "source": [
        "G.edges()"
      ],
      "execution_count": null,
      "outputs": [
        {
          "output_type": "execute_result",
          "data": {
            "text/plain": [
              "MultiEdgeDataView([('A', 'B'), ('A', 'D'), ('B', 'C')])"
            ]
          },
          "metadata": {
            "tags": []
          },
          "execution_count": 49
        }
      ]
    },
    {
      "cell_type": "code",
      "metadata": {
        "id": "TAviPnXadz1t",
        "colab_type": "code",
        "colab": {
          "base_uri": "https://localhost:8080/",
          "height": 34
        },
        "outputId": "04c750e2-9781-431a-90d6-87ac36bb5cd2"
      },
      "source": [
        "G.nodes(data=True)"
      ],
      "execution_count": null,
      "outputs": [
        {
          "output_type": "execute_result",
          "data": {
            "text/plain": [
              "NodeDataView({'A': {'role': 'trader'}, 'B': {'role': 'trader'}, 'D': {}, 'C': {'role': 'manager'}})"
            ]
          },
          "metadata": {
            "tags": []
          },
          "execution_count": 57
        }
      ]
    },
    {
      "cell_type": "code",
      "metadata": {
        "id": "flVs9lN2cj8i",
        "colab_type": "code",
        "colab": {
          "base_uri": "https://localhost:8080/",
          "height": 35
        },
        "outputId": "96f06809-2b46-4cd8-d615-75f11564e1e8"
      },
      "source": [
        "G.nodes['A']['role']"
      ],
      "execution_count": null,
      "outputs": [
        {
          "output_type": "execute_result",
          "data": {
            "application/vnd.google.colaboratory.intrinsic+json": {
              "type": "string"
            },
            "text/plain": [
              "'trader'"
            ]
          },
          "metadata": {
            "tags": []
          },
          "execution_count": 58
        }
      ]
    },
    {
      "cell_type": "code",
      "metadata": {
        "id": "_5aiMr-AZDjq",
        "colab_type": "code",
        "colab": {
          "base_uri": "https://localhost:8080/",
          "height": 34
        },
        "outputId": "5e15db15-c356-49c4-98e4-8d84d99e26f8"
      },
      "source": [
        "G.edges()"
      ],
      "execution_count": null,
      "outputs": [
        {
          "output_type": "execute_result",
          "data": {
            "text/plain": [
              "MultiEdgeDataView([('A', 'B'), ('A', 'D'), ('B', 'C')])"
            ]
          },
          "metadata": {
            "tags": []
          },
          "execution_count": 29
        }
      ]
    },
    {
      "cell_type": "code",
      "metadata": {
        "id": "rL7YyiZ2ZOvr",
        "colab_type": "code",
        "colab": {
          "base_uri": "https://localhost:8080/",
          "height": 34
        },
        "outputId": "5ddc475e-1cec-4068-f849-b489d72e7bc4"
      },
      "source": [
        "G.edges(data=True)"
      ],
      "execution_count": null,
      "outputs": [
        {
          "output_type": "execute_result",
          "data": {
            "text/plain": [
              "MultiEdgeDataView([('A', 'B', {'weight': 16, 'relation': 'friend'}), ('A', 'D', {'weight': 16, 'relation': 'neighbour'}), ('B', 'C', {'weight': 5, 'relation': 'family'})])"
            ]
          },
          "metadata": {
            "tags": []
          },
          "execution_count": 30
        }
      ]
    },
    {
      "cell_type": "code",
      "metadata": {
        "id": "xcQUw8ilZXDD",
        "colab_type": "code",
        "colab": {
          "base_uri": "https://localhost:8080/",
          "height": 34
        },
        "outputId": "918da45b-7150-408a-ae77-1f8615faf8e1"
      },
      "source": [
        "G.edges(data='relation')"
      ],
      "execution_count": null,
      "outputs": [
        {
          "output_type": "execute_result",
          "data": {
            "text/plain": [
              "MultiEdgeDataView([('A', 'B', 'friend'), ('A', 'D', 'neighbour'), ('B', 'C', 'family')])"
            ]
          },
          "metadata": {
            "tags": []
          },
          "execution_count": 31
        }
      ]
    },
    {
      "cell_type": "code",
      "metadata": {
        "id": "Q2mBhwUFZcbS",
        "colab_type": "code",
        "colab": {
          "base_uri": "https://localhost:8080/",
          "height": 34
        },
        "outputId": "42d8ad23-c59e-403e-8697-3d2d9284f6f4"
      },
      "source": [
        "G.edges(['D','C'], data=True)"
      ],
      "execution_count": null,
      "outputs": [
        {
          "output_type": "execute_result",
          "data": {
            "text/plain": [
              "MultiEdgeDataView([('D', 'A', {'weight': 16, 'relation': 'neighbour'}), ('C', 'B', {'weight': 5, 'relation': 'family'})])"
            ]
          },
          "metadata": {
            "tags": []
          },
          "execution_count": 47
        }
      ]
    },
    {
      "cell_type": "markdown",
      "metadata": {
        "id": "GdCD34oGcGLH",
        "colab_type": "text"
      },
      "source": [
        "# Directed mutli graph"
      ]
    },
    {
      "cell_type": "code",
      "metadata": {
        "id": "4eNgjcf0bF3M",
        "colab_type": "code",
        "colab": {}
      },
      "source": [
        "G = nx.MultiDiGraph()\n",
        "\n"
      ],
      "execution_count": null,
      "outputs": []
    },
    {
      "cell_type": "markdown",
      "metadata": {
        "id": "5GMqrDlceooP",
        "colab_type": "text"
      },
      "source": [
        "# Bipartite Graph"
      ]
    },
    {
      "cell_type": "code",
      "metadata": {
        "id": "VULyTZDoerjQ",
        "colab_type": "code",
        "colab": {}
      },
      "source": [
        "from networkx.algorithms import bipartite"
      ],
      "execution_count": 38,
      "outputs": []
    },
    {
      "cell_type": "code",
      "metadata": {
        "id": "HO6GdCl5fAaG",
        "colab_type": "code",
        "colab": {}
      },
      "source": [
        "B = nx.Graph()\n",
        "\n",
        "B.add_nodes_from(['A','B','C','D', 'E'], bipartite=0)\n",
        "B.add_nodes_from([1,2,3,4], bipartite=1)\n",
        "B.add_edges_from([('A',1),('B',1),('C',1),('C',3),('D',2),('E',3),('E',4)])"
      ],
      "execution_count": 39,
      "outputs": []
    },
    {
      "cell_type": "code",
      "metadata": {
        "id": "BFpakAnosdHq",
        "colab_type": "code",
        "colab": {
          "base_uri": "https://localhost:8080/",
          "height": 34
        },
        "outputId": "b5f9d8d5-de32-4e67-c07a-3d0fe4b8410d"
      },
      "source": [
        "bipartite.is_bipartite(B), bipartite.is_bipartite(G) "
      ],
      "execution_count": 28,
      "outputs": [
        {
          "output_type": "execute_result",
          "data": {
            "text/plain": [
              "(True, False)"
            ]
          },
          "metadata": {
            "tags": []
          },
          "execution_count": 28
        }
      ]
    },
    {
      "cell_type": "code",
      "metadata": {
        "id": "7ig21YyCs-No",
        "colab_type": "code",
        "colab": {}
      },
      "source": [
        "B.add_edge('A','B')"
      ],
      "execution_count": 40,
      "outputs": []
    },
    {
      "cell_type": "code",
      "metadata": {
        "id": "TIhLqPJBtBw-",
        "colab_type": "code",
        "colab": {
          "base_uri": "https://localhost:8080/",
          "height": 34
        },
        "outputId": "0e04b508-bdb7-4ad9-ce9f-3479d125ca34"
      },
      "source": [
        "bipartite.is_bipartite(B)"
      ],
      "execution_count": 41,
      "outputs": [
        {
          "output_type": "execute_result",
          "data": {
            "text/plain": [
              "False"
            ]
          },
          "metadata": {
            "tags": []
          },
          "execution_count": 41
        }
      ]
    },
    {
      "cell_type": "code",
      "metadata": {
        "id": "Jx3F11IotpPW",
        "colab_type": "code",
        "colab": {}
      },
      "source": [
        "B.remove_edge('A','B')"
      ],
      "execution_count": 42,
      "outputs": []
    },
    {
      "cell_type": "code",
      "metadata": {
        "id": "Xb_rgaPzttpE",
        "colab_type": "code",
        "colab": {
          "base_uri": "https://localhost:8080/",
          "height": 34
        },
        "outputId": "f34ac48c-4ce6-4145-97a3-82c91a7c5847"
      },
      "source": [
        "bipartite.is_bipartite_node_set(B, [1,2,3,4])"
      ],
      "execution_count": 43,
      "outputs": [
        {
          "output_type": "execute_result",
          "data": {
            "text/plain": [
              "True"
            ]
          },
          "metadata": {
            "tags": []
          },
          "execution_count": 43
        }
      ]
    },
    {
      "cell_type": "code",
      "metadata": {
        "id": "Oflzywsjt0cf",
        "colab_type": "code",
        "colab": {
          "base_uri": "https://localhost:8080/",
          "height": 34
        },
        "outputId": "30a8d2e9-adc9-4354-be19-d5c4a2bb4ddc"
      },
      "source": [
        "bipartite.is_bipartite_node_set(B, ['A','B','C','D','E'])"
      ],
      "execution_count": 44,
      "outputs": [
        {
          "output_type": "execute_result",
          "data": {
            "text/plain": [
              "True"
            ]
          },
          "metadata": {
            "tags": []
          },
          "execution_count": 44
        }
      ]
    },
    {
      "cell_type": "code",
      "metadata": {
        "id": "0FiZpYNPt4kD",
        "colab_type": "code",
        "colab": {
          "base_uri": "https://localhost:8080/",
          "height": 34
        },
        "outputId": "f9a0682b-5a3e-4dd4-f112-4f2ceae491c3"
      },
      "source": [
        "bipartite.is_bipartite_node_set(B, ['A','B','C','D','E',1])"
      ],
      "execution_count": 45,
      "outputs": [
        {
          "output_type": "execute_result",
          "data": {
            "text/plain": [
              "False"
            ]
          },
          "metadata": {
            "tags": []
          },
          "execution_count": 45
        }
      ]
    },
    {
      "cell_type": "code",
      "metadata": {
        "id": "wjHWT3d-uraB",
        "colab_type": "code",
        "colab": {}
      },
      "source": [
        "B.add_edge('D',4)"
      ],
      "execution_count": 46,
      "outputs": []
    },
    {
      "cell_type": "code",
      "metadata": {
        "id": "Cs3LR5D8x69E",
        "colab_type": "code",
        "colab": {
          "base_uri": "https://localhost:8080/",
          "height": 248
        },
        "outputId": "9d7ba971-5bb3-4ad8-e73c-0aa69225064a"
      },
      "source": [
        "nx.draw_networkx(B)"
      ],
      "execution_count": 53,
      "outputs": [
        {
          "output_type": "display_data",
          "data": {
            "image/png": "[encoded data removed]",
            "text/plain": [
              "<Figure size 432x288 with 1 Axes>"
            ]
          },
          "metadata": {
            "tags": []
          }
        }
      ]
    },
    {
      "cell_type": "code",
      "metadata": {
        "id": "fKR9UsZqt_Dx",
        "colab_type": "code",
        "colab": {
          "base_uri": "https://localhost:8080/",
          "height": 34
        },
        "outputId": "ad66137c-894c-4b7c-9245-4c03362fc246"
      },
      "source": [
        "bipartite.sets(B)"
      ],
      "execution_count": 47,
      "outputs": [
        {
          "output_type": "execute_result",
          "data": {
            "text/plain": [
              "({'A', 'B', 'C', 'D', 'E'}, {1, 2, 3, 4})"
            ]
          },
          "metadata": {
            "tags": []
          },
          "execution_count": 47
        }
      ]
    },
    {
      "cell_type": "markdown",
      "metadata": {
        "id": "94_1SJtHwwH7",
        "colab_type": "text"
      },
      "source": [
        "## projected graph"
      ]
    },
    {
      "cell_type": "code",
      "metadata": {
        "id": "E4i_6S3fuiiL",
        "colab_type": "code",
        "colab": {}
      },
      "source": [
        "P = bipartite.projected_graph(B, [1,2,3,4])"
      ],
      "execution_count": 48,
      "outputs": []
    },
    {
      "cell_type": "code",
      "metadata": {
        "id": "rTUYHKcvxM1p",
        "colab_type": "code",
        "colab": {
          "base_uri": "https://localhost:8080/",
          "height": 34
        },
        "outputId": "7b26e379-5586-442b-d937-252ba2784503"
      },
      "source": [
        "P.edges"
      ],
      "execution_count": 49,
      "outputs": [
        {
          "output_type": "execute_result",
          "data": {
            "text/plain": [
              "EdgeView([(1, 3), (2, 4), (3, 4)])"
            ]
          },
          "metadata": {
            "tags": []
          },
          "execution_count": 49
        }
      ]
    },
    {
      "cell_type": "code",
      "metadata": {
        "id": "lS26MybNxPLb",
        "colab_type": "code",
        "colab": {}
      },
      "source": [
        "PW = bipartite.weighted_projected_graph(B, [1,2,3,4])"
      ],
      "execution_count": 50,
      "outputs": []
    },
    {
      "cell_type": "code",
      "metadata": {
        "id": "UejaOyZtxVkC",
        "colab_type": "code",
        "colab": {
          "base_uri": "https://localhost:8080/",
          "height": 34
        },
        "outputId": "41968946-9afb-4a82-a1af-7ffa5402bc67"
      },
      "source": [
        "PW.edges(data=True)"
      ],
      "execution_count": 52,
      "outputs": [
        {
          "output_type": "execute_result",
          "data": {
            "text/plain": [
              "EdgeDataView([(1, 3, {'weight': 1}), (2, 4, {'weight': 1}), (3, 4, {'weight': 1})])"
            ]
          },
          "metadata": {
            "tags": []
          },
          "execution_count": 52
        }
      ]
    }
  ]
}